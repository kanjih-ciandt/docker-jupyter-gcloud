{
 "cells": [
  {
   "cell_type": "code",
   "execution_count": null,
   "metadata": {},
   "outputs": [],
   "source": [
    "!pip install google-cloud --user\n",
    "!pip install --upgrade google-cloud-bigquery[pandas] --user\n",
    "!pip install google-cloud-storage --user"
   ]
  },
  {
   "cell_type": "code",
   "execution_count": null,
   "metadata": {},
   "outputs": [],
   "source": [
    "%load_ext google.cloud.bigquery"
   ]
  },
  {
   "cell_type": "markdown",
   "metadata": {},
   "source": [
    "### Setup variables\n",
    "\n",
    "Change ***GCP_PROJECT_ID*** with your project_id"
   ]
  },
  {
   "cell_type": "code",
   "execution_count": null,
   "metadata": {},
   "outputs": [],
   "source": [
    "SERVICE_ACCOUNT='jupytersa'\n",
    "JSON_FILE_NAME = '/home/jovyan/work/sa1.json'\n",
    "GCP_PROJECT_ID='<GCP_PROJECT_ID>'"
   ]
  },
  {
   "cell_type": "markdown",
   "metadata": {},
   "source": [
    "### Create Service Account"
   ]
  },
  {
   "cell_type": "code",
   "execution_count": null,
   "metadata": {},
   "outputs": [],
   "source": [
    "import subprocess\n",
    "import sys\n",
    "import logging\n",
    "\n",
    "logger = logging.Logger('catch_all')\n",
    "\n",
    "def run_command(parameters):\n",
    "    try:\n",
    "        # \"\"\"Prints and runs a command.\"\"\"\n",
    "        return subprocess.check_output(parameters)\n",
    "    except BaseException as e: \n",
    "       logger.error(e) \n",
    "       logger.error('ERROR: Looking in jupyter console for more information')"
   ]
  },
  {
   "cell_type": "code",
   "execution_count": null,
   "metadata": {},
   "outputs": [],
   "source": [
    "run_command([\n",
    "        'gcloud', 'iam', 'service-accounts',\n",
    "        'create', SERVICE_ACCOUNT,\n",
    "        '--display-name', \"Service Account for BETA SCC API\",\n",
    "        '--project', GCP_PROJECT_ID\n",
    "])"
   ]
  },
  {
   "cell_type": "code",
   "execution_count": null,
   "metadata": {},
   "outputs": [],
   "source": [
    "IAM_ROLES = [\n",
    "    'roles/editor'\n",
    "]\n",
    "\n",
    "for role in IAM_ROLES:\n",
    "    run_command([\n",
    "        'gcloud', 'projects', 'add-iam-policy-binding',GCP_PROJECT_ID,\n",
    "        '--member', 'serviceAccount:{}@{}.iam.gserviceaccount.com'.format(SERVICE_ACCOUNT, GCP_PROJECT_ID),\n",
    "        '--quiet',  '--role', role\n",
    "    ])"
   ]
  },
  {
   "cell_type": "code",
   "execution_count": null,
   "metadata": {},
   "outputs": [],
   "source": [
    "run_command([\n",
    "        'gcloud', 'iam', 'service-accounts',\n",
    "        'keys', 'create',JSON_FILE_NAME ,\n",
    "        '--iam-account', \n",
    "        '{}@{}.iam.gserviceaccount.com'.format(SERVICE_ACCOUNT, GCP_PROJECT_ID)\n",
    "])"
   ]
  },
  {
   "cell_type": "code",
   "execution_count": null,
   "metadata": {},
   "outputs": [],
   "source": [
    "import logging\n",
    "import json\n",
    "import os\n",
    "from datetime import datetime\n",
    "import pprint\n",
    "\n",
    "from googleapiclient import discovery\n",
    "from oauth2client.service_account import ServiceAccountCredentials\n",
    "\n",
    "# Default scope to get access token\n",
    "_SCOPE = 'https://www.googleapis.com/auth/cloud-platform'\n",
    "CLIENT_DISCOVERY_SERVICE_URL_BASE = 'https://securitycenter.googleapis.com/$discovery/rest'"
   ]
  },
  {
   "cell_type": "markdown",
   "metadata": {},
   "source": [
    "#### GCP API (https://github.com/googleapis/google-cloud-python)"
   ]
  },
  {
   "cell_type": "markdown",
   "metadata": {},
   "source": [
    "### Storage"
   ]
  },
  {
   "cell_type": "code",
   "execution_count": null,
   "metadata": {},
   "outputs": [],
   "source": [
    "from google.cloud import storage\n",
    "\n",
    "# Explicitly use service account credentials by specifying the private key\n",
    "    # file.\n",
    "storage_client = storage.Client.from_service_account_json(JSON_FILE_NAME)\n",
    "\n",
    "# Make an authenticated API request\n",
    "buckets = list(storage_client.list_buckets())\n",
    "print(buckets)"
   ]
  },
  {
   "cell_type": "markdown",
   "metadata": {},
   "source": [
    "### BigQuery"
   ]
  },
  {
   "cell_type": "code",
   "execution_count": null,
   "metadata": {},
   "outputs": [],
   "source": [
    "from google.cloud import bigquery\n",
    "\n",
    "client = bigquery.Client.from_service_account_json(JSON_FILE_NAME)\n",
    "# Perform a query.\n",
    "QUERY = (\n",
    "    'SELECT name FROM `bigquery-public-data.usa_names.usa_1910_2013` '\n",
    "    'WHERE state = \"TX\" '\n",
    "    'LIMIT 100')\n",
    "query_job = client.query(QUERY)  # API request\n",
    "rows = query_job.result()  # Waits for query to finish\n",
    "\n",
    "for row in rows:\n",
    "    print(row.name)"
   ]
  }
 ],
 "metadata": {
  "kernelspec": {
   "display_name": "Python 3",
   "language": "python",
   "name": "python3"
  },
  "language_info": {
   "codemirror_mode": {
    "name": "ipython",
    "version": 3
   },
   "file_extension": ".py",
   "mimetype": "text/x-python",
   "name": "python",
   "nbconvert_exporter": "python",
   "pygments_lexer": "ipython3",
   "version": "3.6.6"
  }
 },
 "nbformat": 4,
 "nbformat_minor": 2
}
